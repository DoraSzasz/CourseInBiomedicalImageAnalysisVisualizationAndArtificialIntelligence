{
 "cells": [
  {
   "cell_type": "markdown",
   "metadata": {
    "slideshow": {
     "slide_type": "slide"
    }
   },
   "source": [
    "## Automatic type deduction"
   ]
  },
  {
   "cell_type": "markdown",
   "metadata": {
    "slideshow": {
     "slide_type": "fragment"
    }
   },
   "source": [
    "* Often the filter type can automatically be deduced from the input of the filter:"
   ]
  },
  {
   "cell_type": "code",
   "execution_count": 38,
   "metadata": {
    "slideshow": {
     "slide_type": "fragment"
    }
   },
   "outputs": [
    {
     "data": {
      "application/vnd.jupyter.widget-view+json": {
       "model_id": "383d5e5380f6412196dd1cf3982d9b08",
       "version_major": 2,
       "version_minor": 0
      },
      "text/plain": [
       "Vmlld2VyKGdyYWRpZW50X29wYWNpdHk9MC4yMiwgcmVuZGVyZWRfaW1hZ2U9PGl0a0ltYWdlUHl0aG9uLml0a0ltYWdlRjI7IHByb3h5IG9mIDxTd2lnIE9iamVjdCBvZiB0eXBlICdpdGtJbWHigKY=\n"
      ]
     },
     "metadata": {},
     "output_type": "display_data"
    }
   ],
   "source": [
    "image = itk.imread(\"data/KitwareITK.jpg\", itk.F)\n",
    "# Filter types deduced from the image type.\n",
    "median_filter = itk.MedianImageFilter.New(image, radius = 3)\n",
    "median_filter.Update()\n",
    "view(median_filter.GetOutput())"
   ]
  },
  {
   "cell_type": "markdown",
   "metadata": {
    "slideshow": {
     "slide_type": "fragment"
    }
   },
   "source": [
    "* Note the absence of image type"
   ]
  },
  {
   "cell_type": "markdown",
   "metadata": {
    "slideshow": {
     "slide_type": "subslide"
    }
   },
   "source": [
    "### Type deduction exercises\n",
    "\n",
    "* Using the previous `MeanImageFilter` exercise, use the type deduction method to instantiate filter.\n",
    "* Using the previous `OtsuThresholdImageFilter` exercise, use the type deduction method to instantiate filter.\n",
    "* What is the image type of the `OtsuThresholdImageFilter` output?"
   ]
  },
  {
   "cell_type": "markdown",
   "metadata": {
    "slideshow": {
     "slide_type": "subslide"
    }
   },
   "source": [
    "* Use the type deduction method to instantiate filter."
   ]
  },
  {
   "cell_type": "code",
   "execution_count": 39,
   "metadata": {
    "slideshow": {
     "slide_type": "-"
    }
   },
   "outputs": [],
   "source": [
    "# mean_filter = itk. XX\n",
    "# mean_filter.Update()\n",
    "# mean_filtered_image = mean_filter.GetOutput()\n",
    "# view(mean_filtered_image)"
   ]
  },
  {
   "cell_type": "code",
   "execution_count": 42,
   "metadata": {
    "slideshow": {
     "slide_type": "-"
    }
   },
   "outputs": [],
   "source": [
    "# %load solutions/4_Using_ITK_in_Python_real_world_filters_MeanFilter-TypeDeduction.py"
   ]
  },
  {
   "cell_type": "markdown",
   "metadata": {
    "slideshow": {
     "slide_type": "subslide"
    }
   },
   "source": [
    "* Using the previous `OtsuThresholdImageFilter` exercise, use the type deduction method to instantiate filter.\n",
    "* What is the image type of the `OtsuThresholdImageFilter` output?"
   ]
  },
  {
   "cell_type": "code",
   "execution_count": 43,
   "metadata": {
    "slideshow": {
     "slide_type": "-"
    }
   },
   "outputs": [],
   "source": [
    "# otsu_filter = itk.XX\n",
    "# otsu_filter.XX\n",
    "# otsu_filtered_image = XX\n",
    "# print(otsu_filtered_image)"
   ]
  },
  {
   "cell_type": "code",
   "execution_count": 46,
   "metadata": {
    "slideshow": {
     "slide_type": "-"
    }
   },
   "outputs": [],
   "source": [
    "# %load solutions/4_Using_ITK_in_Python_real_world_filters_OtsuFilter-TypeDeduction.py"
   ]
  },
  {
   "cell_type": "markdown",
   "metadata": {
    "slideshow": {
     "slide_type": "slide"
    }
   },
   "source": [
    "## Simplify your code (and your life)"
   ]
  },
  {
   "cell_type": "markdown",
   "metadata": {
    "slideshow": {
     "slide_type": "subslide"
    }
   },
   "source": [
    "### Objects accessible by index (non exhaustive)\n",
    "* MetaDataDictionary\n",
    "* Index\n",
    "* Point\n",
    "* Vector\n",
    "* Size"
   ]
  },
  {
   "cell_type": "code",
   "execution_count": 47,
   "metadata": {
    "slideshow": {
     "slide_type": "fragment"
    }
   },
   "outputs": [
    {
     "name": "stdout",
     "output_type": "stream",
     "text": [
      "index value at position 0: 1\n"
     ]
    }
   ],
   "source": [
    "# Create an `Index` of dimension 3\n",
    "index = itk.Index[3]()\n",
    "index[0]=1\n",
    "print(\"index value at position 0: %d\"%index[0])"
   ]
  },
  {
   "cell_type": "markdown",
   "metadata": {
    "slideshow": {
     "slide_type": "subslide"
    }
   },
   "source": [
    "* Matrix is not, but you can get values with `()`"
   ]
  },
  {
   "cell_type": "code",
   "execution_count": 48,
   "metadata": {
    "slideshow": {
     "slide_type": "fragment"
    }
   },
   "outputs": [
    {
     "name": "stdout",
     "output_type": "stream",
     "text": [
      "Value at coordinate 0,0: 0.000000\n"
     ]
    }
   ],
   "source": [
    "# Create a 3x3 `Matrix` of type float\n",
    "m = itk.Matrix[itk.F,3,3]()\n",
    "print(\"Value at coordinate 0,0: %f\" % m(0,0))"
   ]
  },
  {
   "cell_type": "markdown",
   "metadata": {
    "slideshow": {
     "slide_type": "fragment"
    }
   },
   "source": [
    "* `itk.VariableLengthVector[itk.D]()` is neither.\n",
    "* Need to set and get values using the `SetElement` and `GetElement` methods."
   ]
  },
  {
   "cell_type": "code",
   "execution_count": 49,
   "metadata": {
    "slideshow": {
     "slide_type": "fragment"
    }
   },
   "outputs": [
    {
     "name": "stdout",
     "output_type": "stream",
     "text": [
      "Value at coordinate 0,0: 1.000000\n"
     ]
    }
   ],
   "source": [
    "# Create a `VariableLengthVector of type `double` and initialize size to `1`\n",
    "v = itk.VariableLengthVector[itk.D](1)\n",
    "v.SetElement(0,1)\n",
    "print(\"Value at coordinate 0,0: %f\" % v.GetElement(0))"
   ]
  },
  {
   "cell_type": "markdown",
   "metadata": {
    "slideshow": {
     "slide_type": "subslide"
    }
   },
   "source": [
    "### Use Python objects instead of ITK objects\n",
    "\n",
    "* Some filters expect inputs of a certain type"
   ]
  },
  {
   "cell_type": "code",
   "execution_count": 50,
   "metadata": {
    "slideshow": {
     "slide_type": "fragment"
    }
   },
   "outputs": [
    {
     "name": "stdout",
     "output_type": "stream",
     "text": [
      "Help on method itkImageBase2_SetOrigin in module _itkImagePython:\n",
      "\n",
      "itkImageBase2_SetOrigin(...) method of itkImagePython.itkImageF2 instance\n",
      "    SetOrigin(itkPointD2 _arg)\n",
      "    SetOrigin(double const * origin)\n",
      "    itkImageBase2_SetOrigin(itkImageBase2 self, float const * origin)\n",
      "    \n",
      "    Set the origin of the\n",
      "    image. The origin is the geometric coordinates of the image origin\n",
      "    (pixel [0,0]). It is stored internally as SpacePrecisionType but may\n",
      "    be set from float or double. See:   GetOrigin()\n",
      "\n"
     ]
    }
   ],
   "source": [
    "image = ImageType.New()\n",
    "help(image.SetOrigin)"
   ]
  },
  {
   "cell_type": "markdown",
   "metadata": {
    "slideshow": {
     "slide_type": "subslide"
    }
   },
   "source": [
    "* Use Python `list` instead (for `Index`, `Point`, `Vector`)"
   ]
  },
  {
   "cell_type": "code",
   "execution_count": 51,
   "metadata": {
    "slideshow": {
     "slide_type": "fragment"
    }
   },
   "outputs": [
    {
     "name": "stdout",
     "output_type": "stream",
     "text": [
      "Image origin: itkPointD2 ([2, 10])\n"
     ]
    }
   ],
   "source": [
    "image.SetOrigin([2,10])\n",
    "print(\"Image origin: %s\" % str(image.GetOrigin()))"
   ]
  },
  {
   "cell_type": "markdown",
   "metadata": {
    "slideshow": {
     "slide_type": "subslide"
    }
   },
   "source": [
    "## Appendix"
   ]
  },
  {
   "cell_type": "markdown",
   "metadata": {
    "slideshow": {
     "slide_type": "fragment"
    }
   },
   "source": [
    "### Functions to know\n",
    "* `itk.imread(file_name [, pixel_type])`\n",
    "* `itk.imwrite(image, file_name [, compression])`\n",
    "* `itk.array_from_image(image)` and `itk.array_view_from_image(image)`\n",
    "* `itk.image_from_array(arr)` and `itk.image_view_from_array(arr)`"
   ]
  },
  {
   "cell_type": "markdown",
   "metadata": {
    "slideshow": {
     "slide_type": "fragment"
    }
   },
   "source": [
    "### Pixel types - Two options\n",
    "* itk.ctype('float'), itk.ctype('unsigned char')\n",
    "* itk.F, itk.UC"
   ]
  },
  {
   "cell_type": "markdown",
   "metadata": {
    "slideshow": {
     "slide_type": "skip"
    }
   },
   "source": [
    "### Convenience functions\n",
    "* `itk.size(image)`\n",
    "* `itk.spacing(image)`\n",
    "* `itk.origin(image)`\n",
    "* `itk.index(image)`\n",
    "* `itk.physical_size(image)`"
   ]
  },
  {
   "cell_type": "markdown",
   "metadata": {
    "slideshow": {
     "slide_type": "slide"
    }
   },
   "source": [
    "## Fixing errors"
   ]
  },
  {
   "cell_type": "markdown",
   "metadata": {
    "slideshow": {
     "slide_type": "subslide"
    }
   },
   "source": [
    "### Unsupported (image) types\n",
    "* typical error message:"
   ]
  },
  {
   "cell_type": "markdown",
   "metadata": {
    "slideshow": {
     "slide_type": "fragment"
    }
   },
   "source": [
    "KeyError: \"itkTemplate : No template [<class 'itkImagePython.itkImageD2'>] for the itk::ImageFileReader class\""
   ]
  },
  {
   "cell_type": "code",
   "execution_count": 53,
   "metadata": {
    "slideshow": {
     "slide_type": "fragment"
    }
   },
   "outputs": [],
   "source": [
    "# image = itk.imread(\"data/BrainProtonDensitySlice.png\", itk.D)\n",
    "# print(image)"
   ]
  },
  {
   "cell_type": "markdown",
   "metadata": {
    "slideshow": {
     "slide_type": "fragment"
    }
   },
   "source": [
    "* Select different input image type:"
   ]
  },
  {
   "cell_type": "code",
   "execution_count": 54,
   "metadata": {
    "slideshow": {
     "slide_type": "fragment"
    }
   },
   "outputs": [],
   "source": [
    "image = itk.imread(\"data/KitwareITK.jpg\", itk.F)"
   ]
  },
  {
   "cell_type": "markdown",
   "metadata": {
    "slideshow": {
     "slide_type": "fragment"
    }
   },
   "source": [
    "* Cast to a different image type:"
   ]
  },
  {
   "cell_type": "code",
   "execution_count": 55,
   "metadata": {
    "slideshow": {
     "slide_type": "fragment"
    }
   },
   "outputs": [],
   "source": [
    "InputImageType = itk.Image[itk.F, 2]\n",
    "OutputImageType = itk.Image[itk.UC, 2]\n",
    "cast_filter = itk.CastImageFilter[InputImageType, OutputImageType].New(image)\n",
    "cast_filter.Update()"
   ]
  },
  {
   "cell_type": "markdown",
   "metadata": {
    "slideshow": {
     "slide_type": "skip"
    }
   },
   "source": [
    "* Converting a NumPy array with too many components along one dimension:\n",
    " * Use `itk.VectorImage`\n",
    " * Save it using `itk.imwrite()`"
   ]
  },
  {
   "cell_type": "markdown",
   "metadata": {
    "slideshow": {
     "slide_type": "skip"
    }
   },
   "source": [
    "## Create your own pipeline\n",
    "\n",
    "* Why?\n",
    " * Create a pipeline in a Python function.\n",
    " * Return the last filter output without updating it.\n",
    " * Error: Not be able to run the pipeline outside of the function."
   ]
  },
  {
   "cell_type": "markdown",
   "metadata": {
    "slideshow": {
     "slide_type": "skip"
    }
   },
   "source": [
    "* This does not work:"
   ]
  },
  {
   "cell_type": "code",
   "execution_count": 56,
   "metadata": {
    "slideshow": {
     "slide_type": "skip"
    }
   },
   "outputs": [
    {
     "ename": "SyntaxError",
     "evalue": "invalid syntax (<ipython-input-56-60e88659c137>, line 3)",
     "output_type": "error",
     "traceback": [
      "\u001b[0;36m  File \u001b[0;32m\"<ipython-input-56-60e88659c137>\"\u001b[0;36m, line \u001b[0;32m3\u001b[0m\n\u001b[0;31m    ...\u001b[0m\n\u001b[0m    ^\u001b[0m\n\u001b[0;31mSyntaxError\u001b[0m\u001b[0;31m:\u001b[0m invalid syntax\n"
     ]
    }
   ],
   "source": [
    "  def generateSource():\n",
    "    reader = itk.ImageReader[ImageType].New()\n",
    "    ...\n",
    "    itkToVtkFilter = itk.ImageToVTKImageFilter[ImageType].New()\n",
    "    itkToVtkFilter.SetInput(reader.GetOutput())\n",
    "    return itkToVtkFilter.GetImporter()\n",
    " \n",
    "  def main():\n",
    "    source = generateSource()\n",
    "    source.Update()"
   ]
  },
  {
   "cell_type": "markdown",
   "metadata": {
    "slideshow": {
     "slide_type": "skip"
    }
   },
   "source": [
    "* Instead, you can create a pipeline, and use it where convenient:"
   ]
  },
  {
   "cell_type": "code",
   "execution_count": 57,
   "metadata": {
    "slideshow": {
     "slide_type": "skip"
    }
   },
   "outputs": [
    {
     "data": {
      "application/vnd.jupyter.widget-view+json": {
       "model_id": "24c75f05fcbd4024a490876c051534ae",
       "version_major": 2,
       "version_minor": 0
      },
      "text/plain": [
       "Vmlld2VyKGdyYWRpZW50X29wYWNpdHk9MC4yMiwgcmVuZGVyZWRfaW1hZ2U9PGl0a0ltYWdlUHl0aG9uLml0a0ltYWdlVUMyOyBwcm94eSBvZiA8U3dpZyBPYmplY3Qgb2YgdHlwZSAnaXRrSW3igKY=\n"
      ]
     },
     "metadata": {},
     "output_type": "display_data"
    }
   ],
   "source": [
    "def my_func(ImageType):\n",
    "    my_pipeline = itk.pipeline()\n",
    "    mean_filter = itk.MeanImageFilter[ImageType, ImageType].New()\n",
    "    my_pipeline.connect(mean_filter)\n",
    "    my_pipeline.expose(\"Radius\")\n",
    "    threshold_filter = itk.ThresholdImageFilter[ImageType].New()\n",
    "    my_pipeline.connect(threshold_filter)\n",
    "    my_pipeline.expose(\"Lower\")\n",
    "    return my_pipeline\n",
    "\n",
    "PixelType = itk.UC\n",
    "ImageType = itk.Image[PixelType, 2]\n",
    "image = itk.imread(\"data/CBCT-TextureInput.png\", PixelType)\n",
    "\n",
    "my_pipeline = my_func(ImageType)\n",
    "my_pipeline.SetInput(image)\n",
    "my_pipeline.SetRadius(5)\n",
    "my_pipeline.SetLower(100)\n",
    "my_pipeline.Update()\n",
    "\n",
    "view(my_pipeline.GetOutput())"
   ]
  },
  {
   "cell_type": "markdown",
   "metadata": {
    "slideshow": {
     "slide_type": "skip"
    }
   },
   "source": [
    "## Very Advanced topic"
   ]
  },
  {
   "cell_type": "markdown",
   "metadata": {
    "slideshow": {
     "slide_type": "skip"
    }
   },
   "source": [
    "* disable lazy loading:"
   ]
  },
  {
   "cell_type": "code",
   "execution_count": 58,
   "metadata": {
    "slideshow": {
     "slide_type": "skip"
    }
   },
   "outputs": [
    {
     "ename": "KeyError",
     "evalue": "'absolute_value_difference_image_filter'",
     "output_type": "error",
     "traceback": [
      "\u001b[0;31m---------------------------------------------------------------------------\u001b[0m",
      "\u001b[0;31mKeyError\u001b[0m                                  Traceback (most recent call last)",
      "\u001b[0;32m<ipython-input-58-13aabc83a193>\u001b[0m in \u001b[0;36m<module>\u001b[0;34m()\u001b[0m\n\u001b[0;32m----> 1\u001b[0;31m \u001b[0mitk\u001b[0m\u001b[0;34m.\u001b[0m\u001b[0mforce_load\u001b[0m\u001b[0;34m(\u001b[0m\u001b[0;34m)\u001b[0m\u001b[0;34m\u001b[0m\u001b[0m\n\u001b[0m",
      "\u001b[0;32m/home/francois.budin/.virtualenvs/itk_course/local/lib/python2.7/site-packages/itkExtras.pyc\u001b[0m in \u001b[0;36mforce_load\u001b[0;34m()\u001b[0m\n\u001b[1;32m    113\u001b[0m     \u001b[0;32mimport\u001b[0m \u001b[0mitk\u001b[0m\u001b[0;34m\u001b[0m\u001b[0m\n\u001b[1;32m    114\u001b[0m     \u001b[0;32mfor\u001b[0m \u001b[0mk\u001b[0m \u001b[0;32min\u001b[0m \u001b[0mdir\u001b[0m\u001b[0;34m(\u001b[0m\u001b[0mitk\u001b[0m\u001b[0;34m)\u001b[0m\u001b[0;34m:\u001b[0m\u001b[0;34m\u001b[0m\u001b[0m\n\u001b[0;32m--> 115\u001b[0;31m         \u001b[0mgetattr\u001b[0m\u001b[0;34m(\u001b[0m\u001b[0mitk\u001b[0m\u001b[0;34m,\u001b[0m \u001b[0mk\u001b[0m\u001b[0;34m)\u001b[0m\u001b[0;34m\u001b[0m\u001b[0m\n\u001b[0m\u001b[1;32m    116\u001b[0m \u001b[0;34m\u001b[0m\u001b[0m\n\u001b[1;32m    117\u001b[0m \u001b[0;34m\u001b[0m\u001b[0m\n",
      "\u001b[0;32m/home/francois.budin/.virtualenvs/itk_course/local/lib/python2.7/site-packages/itkLazy.pyc\u001b[0m in \u001b[0;36m__getattribute__\u001b[0;34m(self, attr)\u001b[0m\n\u001b[1;32m     45\u001b[0m             \u001b[0;32mfor\u001b[0m \u001b[0mk\u001b[0m\u001b[0;34m,\u001b[0m \u001b[0mv\u001b[0m \u001b[0;32min\u001b[0m \u001b[0mnamespace\u001b[0m\u001b[0;34m.\u001b[0m\u001b[0mitems\u001b[0m\u001b[0;34m(\u001b[0m\u001b[0;34m)\u001b[0m\u001b[0;34m:\u001b[0m\u001b[0;34m\u001b[0m\u001b[0m\n\u001b[1;32m     46\u001b[0m                 \u001b[0msetattr\u001b[0m\u001b[0;34m(\u001b[0m\u001b[0mself\u001b[0m\u001b[0;34m,\u001b[0m \u001b[0mk\u001b[0m\u001b[0;34m,\u001b[0m \u001b[0mv\u001b[0m\u001b[0;34m)\u001b[0m\u001b[0;34m\u001b[0m\u001b[0m\n\u001b[0;32m---> 47\u001b[0;31m             \u001b[0mvalue\u001b[0m \u001b[0;34m=\u001b[0m \u001b[0mnamespace\u001b[0m\u001b[0;34m[\u001b[0m\u001b[0mattr\u001b[0m\u001b[0;34m]\u001b[0m\u001b[0;34m\u001b[0m\u001b[0m\n\u001b[0m\u001b[1;32m     48\u001b[0m         \u001b[0;32mreturn\u001b[0m \u001b[0mvalue\u001b[0m\u001b[0;34m\u001b[0m\u001b[0m\n",
      "\u001b[0;31mKeyError\u001b[0m: 'absolute_value_difference_image_filter'"
     ]
    }
   ],
   "source": [
    "itk.force_load()"
   ]
  },
  {
   "cell_type": "markdown",
   "metadata": {
    "slideshow": {
     "slide_type": "skip"
    }
   },
   "source": [
    "* call_back while importing ITK"
   ]
  },
  {
   "cell_type": "code",
   "execution_count": null,
   "metadata": {
    "slideshow": {
     "slide_type": "skip"
    }
   },
   "outputs": [],
   "source": [
    "import itk\n",
    "itk.auto_progress(True)\n",
    "itk.force_load()\n",
    "itk.auto_progress(False)"
   ]
  },
  {
   "cell_type": "markdown",
   "metadata": {
    "slideshow": {
     "slide_type": "skip"
    }
   },
   "source": [
    "* Cast and downcast ITK objects"
   ]
  },
  {
   "cell_type": "code",
   "execution_count": null,
   "metadata": {
    "slideshow": {
     "slide_type": "skip"
    }
   },
   "outputs": [],
   "source": [
    "ImageType = itk.Image[itk.F, 2]\n",
    "filter = itk.MedianImageFilter[ImageType, ImageType].New()\n",
    "casted_filter = itk.ProcessObject.cast(filter)\n",
    "itk.down_cast(casted_filter)"
   ]
  },
  {
   "cell_type": "markdown",
   "metadata": {
    "collapsed": true,
    "slideshow": {
     "slide_type": "slide"
    }
   },
   "source": [
    "## Views vs copy"
   ]
  },
  {
   "cell_type": "markdown",
   "metadata": {
    "slideshow": {
     "slide_type": "subslide"
    }
   },
   "source": [
    "So far we have used `itk.array_view_from_image()` and `itk.image_view_from_array()`. You can see the keyword `view` in both the names of these functions."
   ]
  },
  {
   "cell_type": "markdown",
   "metadata": {
    "slideshow": {
     "slide_type": "subslide"
    }
   },
   "source": [
    "Let's compare the result of `itk.array_view_from_image()` and `itk.array_from_image()`"
   ]
  },
  {
   "cell_type": "code",
   "execution_count": 21,
   "metadata": {
    "slideshow": {
     "slide_type": "subslide"
    }
   },
   "outputs": [
    {
     "data": {
      "text/plain": [
       "Text(0.5, 1.0, 'Copy')"
      ]
     },
     "execution_count": 21,
     "metadata": {},
     "output_type": "execute_result"
    },
    {
     "data": {
      "image/png": "[encoded data removed]",
      "text/plain": [
       "<Figure size 432x288 with 2 Axes>"
      ]
     },
     "metadata": {
      "needs_background": "light"
     },
     "output_type": "display_data"
    }
   ],
   "source": [
    "gaussian = itk.gaussian_image_source(Size=11, Sigma=3, Scale=100, Mean=[5,5])\n",
    "\n",
    "arr_view_gaussian = itk.array_view_from_image(gaussian)\n",
    "arr_gaussian = itk.array_from_image(gaussian)\n",
    "\n",
    "gaussian.SetPixel([5,5],0)\n",
    "\n",
    "plt.subplot(1, 2, 1)\n",
    "plt.imshow(arr_view_gaussian)\n",
    "plt.title(\"View\")\n",
    "\n",
    "plt.subplot(1, 2, 2)\n",
    "plt.imshow(arr_gaussian)\n",
    "plt.title(\"Copy\")"
   ]
  },
  {
   "cell_type": "markdown",
   "metadata": {
    "slideshow": {
     "slide_type": "subslide"
    }
   },
   "source": [
    "### Exercise 2: ITK image to NumPy array\n",
    "\n",
    "* Read an image with ITK\n",
    "* Convert image to NumPy array\n",
    "* Modify a pixel in the image\n",
    "* Has the array been modified?\n",
    "* Why did you make that choice?"
   ]
  },
  {
   "cell_type": "code",
   "execution_count": 22,
   "metadata": {},
   "outputs": [],
   "source": [
    "# %load solutions/4_ITK_and_NumPy_answers_Exercise2.py"
   ]
  }
 ],
 "metadata": {
  "kernelspec": {
   "display_name": "Python 3",
   "language": "python",
   "name": "python3"
  },
  "language_info": {
   "codemirror_mode": {
    "name": "ipython",
    "version": 3
   },
   "file_extension": ".py",
   "mimetype": "text/x-python",
   "name": "python",
   "nbconvert_exporter": "python",
   "pygments_lexer": "ipython3",
   "version": "3.7.1"
  }
 },
 "nbformat": 4,
 "nbformat_minor": 2
}
