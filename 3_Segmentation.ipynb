{
 "cells": [
  {
   "cell_type": "markdown",
   "metadata": {
    "slideshow": {
     "slide_type": "slide"
    }
   },
   "source": [
    "# Image Segmentation"
   ]
  },
  {
   "cell_type": "markdown",
   "metadata": {
    "slideshow": {
     "slide_type": "slide"
    }
   },
   "source": [
    "## Overview"
   ]
  },
  {
   "cell_type": "markdown",
   "metadata": {
    "slideshow": {
     "slide_type": "subslide"
    }
   },
   "source": [
    "### Learning Objectives\n",
    "\n",
    "* Gain familiarity with the different categories of segmentation methods available in ITK\n",
    "* Understand the difference between region growing methods and how their parameters change their behavior\n",
    "* Understand the influence of terms in level set segmentation methods"
   ]
  },
  {
   "cell_type": "markdown",
   "metadata": {
    "slideshow": {
     "slide_type": "slide"
    }
   },
   "source": [
    "### Segmentation method categories\n",
    "\n",
    "![Segmentation categories](data/segmentation-categories.png)"
   ]
  },
  {
   "cell_type": "markdown",
   "metadata": {
    "slideshow": {
     "slide_type": "slide"
    }
   },
   "source": [
    "### Region Growing Methods\n",
    "\n",
    "The basic approach of a *region growing algorithm* is to **start from a seed region (typically one or more\n",
    "pixels)** that are considered to be inside the object to be segmented. The **pixels neighboring this\n",
    "region are evaluated to determine if they should also be considered part of the object**. If so, **they are\n",
    "added to the region and the process continues as long as new pixels are added to the region**. Region\n",
    "growing algorithms vary depending on the criteria used to decide whether a pixel should be included\n",
    "in the region or not, the type connectivity used to determine neighbors, and the strategy used to visit\n",
    "neighboring pixels."
   ]
  },
  {
   "cell_type": "markdown",
   "metadata": {
    "slideshow": {
     "slide_type": "fragment"
    }
   },
   "source": [
    "Example region growing methods available in ITK:\n",
    "\n",
    "- ConfidenceConnected\n",
    "- ConnectedThreshold\n",
    "- IsolatedConnected"
   ]
  },
  {
   "cell_type": "markdown",
   "metadata": {
    "slideshow": {
     "slide_type": "subslide"
    }
   },
   "source": [
    "#### Confidence Connected\n",
    "\n",
    "![Confidence Connected](data/confidence-connected.png)"
   ]
  },
  {
   "cell_type": "markdown",
   "metadata": {
    "slideshow": {
     "slide_type": "subslide"
    }
   },
   "source": [
    "#### Connected Threshold\n",
    "\n",
    "![Connected Threshold](data/connected-threshold.png)"
   ]
  },
  {
   "cell_type": "markdown",
   "metadata": {
    "slideshow": {
     "slide_type": "subslide"
    }
   },
   "source": [
    "#### Isolated Connected\n",
    "\n",
    "![Isolated Connected](data/isolated-connected.png)"
   ]
  },
  {
   "cell_type": "markdown",
   "metadata": {
    "slideshow": {
     "slide_type": "slide"
    }
   },
   "source": [
    "### Level Set Segmentation Methods"
   ]
  },
  {
   "cell_type": "markdown",
   "metadata": {
    "slideshow": {
     "slide_type": "subslide"
    }
   },
   "source": [
    "### Level Set Concept\n",
    "\n",
    "![Level set concept](data/level-set-concept.png)\n",
    "\n"
   ]
  },
  {
   "cell_type": "markdown",
   "metadata": {
    "slideshow": {
     "slide_type": "subslide"
    }
   },
   "source": [
    "#### Level Set Evolution\n",
    "\n",
    "![Level Set evolution](data/level-set-evolution.png)"
   ]
  },
  {
   "cell_type": "markdown",
   "metadata": {
    "slideshow": {
     "slide_type": "subslide"
    }
   },
   "source": [
    "#### Level Set Function\n",
    "\n",
    "$\\phi_{t} = - \\alpha  \\mathbf{A}(\\mathbf{x})\\cdot\\nabla\\phi - \\beta   P(\\mathbf{x})\\mid\\nabla\\phi\\mid + \\gamma Z(\\mathbf{x})\\kappa\\mid\\nabla\\phi\\mid$\n",
    "\n",
    "- $\\mathbf{A}(\\mathbf{x})$: **Advection**\n",
    "- $P(\\mathbf{x})$: **Propagation**\n",
    "- $Z(\\mathbf{x})$: **Spatial modifier for curvature *K***"
   ]
  },
  {
   "cell_type": "markdown",
   "metadata": {
    "slideshow": {
     "slide_type": "fragment"
    }
   },
   "source": [
    "- Track the evolution of contours and surfaces by computing the update to the solution $\\phi$ of the PDE\n",
    "- Contour (initial solution) is initialized by the user\n",
    "- Evolve $\\phi$ until\n",
    "  - It fits the form of the segment you are trying to fit (shape detection)\n",
    "  - It segments the features you want (segmentation)\n",
    "- Evolution is uni-directional (inwards or outwards)"
   ]
  },
  {
   "cell_type": "markdown",
   "metadata": {
    "slideshow": {
     "slide_type": "subslide"
    }
   },
   "source": [
    "For more information, see:\n",
    "\n",
    "- The *Segmentation* chapter of Book 2 of the ITK Software Guide, including the sections on *Region Growing* and *Level Set Segmentation*."
   ]
  },
  {
   "cell_type": "markdown",
   "metadata": {
    "slideshow": {
     "slide_type": "slide"
    }
   },
   "source": [
    "## Tutorial"
   ]
  },
  {
   "cell_type": "code",
   "execution_count": null,
   "metadata": {
    "slideshow": {
     "slide_type": "subslide"
    }
   },
   "outputs": [],
   "source": [
    "import numpy as np\n",
    "import itk\n",
    "from itkwidgets import view"
   ]
  },
  {
   "cell_type": "markdown",
   "metadata": {
    "slideshow": {
     "slide_type": "subslide"
    }
   },
   "source": [
    "We can monitor when a filter gets called by registering a command that gets called when [ProgressEvents](https://itk.org/Doxygen/html/classitk_1_1ProgressEvent.html) occur.\n"
   ]
  },
  {
   "cell_type": "code",
   "execution_count": null,
   "metadata": {},
   "outputs": [],
   "source": [
    "import itkConfig\n",
    "import itkExtras\n",
    "itkConfig.ProgressCallback = itkExtras.simple_progress_callback"
   ]
  },
  {
   "cell_type": "markdown",
   "metadata": {
    "slideshow": {
     "slide_type": "subslide"
    }
   },
   "source": [
    "Start an image processing pipeline with a source, an `ImageFileReader`."
   ]
  },
  {
   "cell_type": "code",
   "execution_count": null,
   "metadata": {
    "slideshow": {
     "slide_type": "-"
    }
   },
   "outputs": [],
   "source": [
    "fileName = 'data/PacMan.png'\n",
    "reader = itk.ImageFileReader.New(FileName=fileName)"
   ]
  },
  {
   "cell_type": "markdown",
   "metadata": {
    "slideshow": {
     "slide_type": "subslide"
    }
   },
   "source": [
    "Next, let's create a smoothing filter. To connect the pipeline, specify the `Output` of the reader as the `Input` to the smoother."
   ]
  },
  {
   "cell_type": "code",
   "execution_count": null,
   "metadata": {},
   "outputs": [],
   "source": [
    "smoother = itk.RecursiveGaussianImageFilter.New(Input=reader.GetOutput())"
   ]
  },
  {
   "cell_type": "markdown",
   "metadata": {
    "slideshow": {
     "slide_type": "subslide"
    }
   },
   "source": [
    "At this point, no output images have been generated.\n",
    "\n",
    "We have configured the simple pipeline:\n",
    "\n",
    "reader -> smoother"
   ]
  },
  {
   "cell_type": "code",
   "execution_count": null,
   "metadata": {},
   "outputs": [],
   "source": [
    "print(\"reader's Output\", reader.GetOutput())\n",
    "print(\"smoother's Output\", smoother.GetOutput())"
   ]
  },
  {
   "cell_type": "markdown",
   "metadata": {
    "slideshow": {
     "slide_type": "subslide"
    }
   },
   "source": [
    "To generate the filter outputs, we must call `Update()` on the filter at the end of the pipeline. In this case, it is the smoother."
   ]
  },
  {
   "cell_type": "code",
   "execution_count": null,
   "metadata": {},
   "outputs": [],
   "source": [
    "smoother.Update()\n",
    "\n",
    "print(\"reader's Output\", reader.GetOutput())\n",
    "print(\"smoother's Output\", smoother.GetOutput())"
   ]
  },
  {
   "cell_type": "markdown",
   "metadata": {
    "slideshow": {
     "slide_type": "subslide"
    }
   },
   "source": [
    "Let's view the images."
   ]
  },
  {
   "cell_type": "code",
   "execution_count": null,
   "metadata": {
    "slideshow": {
     "slide_type": "subslide"
    }
   },
   "outputs": [],
   "source": [
    "image = reader.GetOutput()\n",
    "view(image)"
   ]
  },
  {
   "cell_type": "code",
   "execution_count": null,
   "metadata": {
    "slideshow": {
     "slide_type": "fragment"
    }
   },
   "outputs": [],
   "source": [
    "smoothed = smoother.GetOutput()\n",
    "view(smoothed)"
   ]
  },
  {
   "cell_type": "markdown",
   "metadata": {
    "slideshow": {
     "slide_type": "subslide"
    }
   },
   "source": [
    "If we call `Update()` on the pipeline, the output pixel data is not needlessly generated because the pipeline is up-to-date."
   ]
  },
  {
   "cell_type": "code",
   "execution_count": null,
   "metadata": {},
   "outputs": [],
   "source": [
    "smoother.Update()"
   ]
  },
  {
   "cell_type": "markdown",
   "metadata": {
    "slideshow": {
     "slide_type": "subslide"
    }
   },
   "source": [
    "However, if we change the amount of smoothing, new pixel data does need to be generated from the output of the smoother."
   ]
  },
  {
   "cell_type": "code",
   "execution_count": null,
   "metadata": {},
   "outputs": [],
   "source": [
    "smoother.SetSigma(3.0)"
   ]
  },
  {
   "cell_type": "code",
   "execution_count": null,
   "metadata": {},
   "outputs": [],
   "source": [
    "view(smoothed)"
   ]
  },
  {
   "cell_type": "code",
   "execution_count": null,
   "metadata": {},
   "outputs": [],
   "source": [
    "smoother.Update()"
   ]
  },
  {
   "cell_type": "markdown",
   "metadata": {
    "slideshow": {
     "slide_type": "subslide"
    }
   },
   "source": [
    "Note, however, note that the reader does generate its output because it is up-to-date and upstream from the smoother.\n",
    "\n",
    "If we artificially modify the reader, both the reader and the smoother need to regenerate their outputs."
   ]
  },
  {
   "cell_type": "code",
   "execution_count": null,
   "metadata": {},
   "outputs": [],
   "source": [
    "reader.Modified()\n",
    "\n",
    "smoother.Update()"
   ]
  },
  {
   "cell_type": "markdown",
   "metadata": {
    "slideshow": {
     "slide_type": "subslide"
    }
   },
   "source": [
    "We can stream the pipeline by placing a [StreamingImageFilter](https://itk.org/Doxygen/html/classitk_1_1StreamingImageFilter.html) at the **end** of the pipeline. The smoother generates outputs multiple times, once for each image region streaming division. Since the reader is not capable of streaming, it only generates its output once."
   ]
  },
  {
   "cell_type": "code",
   "execution_count": null,
   "metadata": {},
   "outputs": [],
   "source": [
    "streamer = itk.StreamingImageFilter.New(Input=smoother.GetOutput())\n",
    "streamer.SetNumberOfStreamDivisions(3)\n",
    "reader.Modified()\n",
    "streamer.Update()"
   ]
  },
  {
   "cell_type": "markdown",
   "metadata": {
    "slideshow": {
     "slide_type": "slide"
    }
   },
   "source": [
    "## Exercises"
   ]
  },
  {
   "cell_type": "markdown",
   "metadata": {
    "slideshow": {
     "slide_type": "subslide"
    }
   },
   "source": [
    "### Exercise 1: The effect of Sigma\n",
    "\n",
    "Change the value of Sigma on the smoothing filter.\n",
    "\n",
    "- How is the output effected?\n",
    "- What are the units of Sigma?"
   ]
  },
  {
   "cell_type": "code",
   "execution_count": null,
   "metadata": {
    "slideshow": {
     "slide_type": "fragment"
    }
   },
   "outputs": [],
   "source": []
  },
  {
   "cell_type": "markdown",
   "metadata": {
    "slideshow": {
     "slide_type": "subslide"
    }
   },
   "source": [
    "### Exercise 2: Does setting a filter parameter to its current value cause regeneration of its output?\n",
    "\n",
    "Call `smoother.SetSigma(smoother.GetSigma())` then `smoother.Update()`. \n",
    "\n",
    "- Is the output regenerated? \n",
    "- Is this expected / desirable?"
   ]
  },
  {
   "cell_type": "code",
   "execution_count": null,
   "metadata": {
    "slideshow": {
     "slide_type": "fragment"
    }
   },
   "outputs": [],
   "source": []
  },
  {
   "cell_type": "markdown",
   "metadata": {
    "slideshow": {
     "slide_type": "subslide"
    }
   },
   "source": [
    "### Exercise 3: Find other image filtering algorithms\n",
    "\n",
    "The classes in ITK are organized into **Modules**, and collections of Modules are organized into **Groups**. Examine the [Image Smoothing](https://itk.org/Insight/Doxygen/html/group__ITKSmoothing.html) Module and the [Filtering](https://itk.org/Insight/Doxygen/html/group__Group-Filtering.html) Group. Can any other smoothing or denoising classes be found? "
   ]
  }
 ],
 "metadata": {
  "celltoolbar": "Slideshow",
  "kernelspec": {
   "display_name": "Python 3",
   "language": "python",
   "name": "python3"
  },
  "language_info": {
   "codemirror_mode": {
    "name": "ipython",
    "version": 3
   },
   "file_extension": ".py",
   "mimetype": "text/x-python",
   "name": "python",
   "nbconvert_exporter": "python",
   "pygments_lexer": "ipython3",
   "version": "3.6.2"
  }
 },
 "nbformat": 4,
 "nbformat_minor": 1
}
