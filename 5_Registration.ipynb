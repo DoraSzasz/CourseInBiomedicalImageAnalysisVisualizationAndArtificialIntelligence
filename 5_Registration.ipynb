{
 "cells": [
  {
   "cell_type": "markdown",
   "metadata": {
    "slideshow": {
     "slide_type": "slide"
    }
   },
   "source": [
    "# Image Registration"
   ]
  },
  {
   "cell_type": "markdown",
   "metadata": {
    "slideshow": {
     "slide_type": "slide"
    }
   },
   "source": [
    "## Overview"
   ]
  },
  {
   "cell_type": "markdown",
   "metadata": {
    "slideshow": {
     "slide_type": "subslide"
    }
   },
   "source": [
    "### Learning Objectives\n",
    "\n",
    "* Understand how ITK does computations in physical space\n",
    "* Understand why ITK does registration in physical space instead of pixel space\n",
    "* Become familiar with the components of the ITK Registration Framework, and survey their possible values"
   ]
  },
  {
   "cell_type": "markdown",
   "metadata": {
    "slideshow": {
     "slide_type": "subslide"
    }
   },
   "source": [
    "The content for this section is provided as [a separate presentation](https://data.kitware.com/api/v1/file/5b0e2aec8d777f15ebe1fb53/download?contentDisposition=inline)."
   ]
  },
  {
   "cell_type": "markdown",
   "metadata": {
    "slideshow": {
     "slide_type": "slide"
    }
   },
   "source": [
    "## Exercises"
   ]
  },
  {
   "cell_type": "markdown",
   "metadata": {
    "slideshow": {
     "slide_type": "subslide"
    }
   },
   "source": [
    "### Exercise 1: Transforms and Pixels\n",
    "\n",
    "![Transforms and pixels](data/transforms-and-pixels.png)\n"
   ]
  },
  {
   "cell_type": "markdown",
   "metadata": {
    "slideshow": {
     "slide_type": "subslide"
    }
   },
   "source": [
    "### Exercise 2: Components of the registration framework\n",
    "\n",
    "Study the image registration pipeline below, and replace the `fixMe` the components with their correct values.\n"
   ]
  },
  {
   "cell_type": "code",
   "execution_count": 1,
   "metadata": {
    "slideshow": {
     "slide_type": "subslide"
    }
   },
   "outputs": [],
   "source": [
    "import numpy as np\n",
    "import itk\n",
    "from itkwidgets import view\n",
    "from matplotlib import pyplot as plt\n",
    "%matplotlib inline\n",
    "from ipywidgets import interact"
   ]
  },
  {
   "cell_type": "code",
   "execution_count": null,
   "metadata": {},
   "outputs": [],
   "source": []
  },
  {
   "cell_type": "code",
   "execution_count": null,
   "metadata": {
    "slideshow": {
     "slide_type": "fragment"
    }
   },
   "outputs": [],
   "source": [
    "import itk\n",
    "\n",
    "from distutils.version import StrictVersion as VS\n",
    "if VS(itk.Version.GetITKVersion()) < VS(\"4.9.0\"):\n",
    "    print(\"ITK 4.9.0 is required.\")\n",
    "    sys.exit(1)\n",
    "\n",
    "if len(sys.argv) != 6:\n",
    "    print(\"Usage: \" + sys.argv[0] + \" <fixedImageFile> <movingImageFile> \"\n",
    "          \"<outputImagefile> <differenceImageAfter> <differenceImageBefore>\")\n",
    "    sys.exit(1)\n",
    "\n",
    "fixedImageFile = sys.argv[1]\n",
    "movingImageFile = sys.argv[2]\n",
    "outputImageFile = sys.argv[3]\n",
    "differenceImageAfterFile = sys.argv[4]\n",
    "differenceImageBeforeFile = sys.argv[5]\n",
    "\n",
    "PixelType = itk.ctype('float')\n",
    "\n",
    "fixedImage = itk.imread(fixedImageFile, PixelType)\n",
    "movingImage = itk.imread(movingImageFile, PixelType)\n",
    "\n",
    "Dimension = fixedImage.GetImageDimension()\n",
    "FixedImageType = itk.Image[PixelType, Dimension]\n",
    "MovingImageType = itk.Image[PixelType, Dimension]\n",
    "\n",
    "TransformType = itk.TranslationTransform[itk.D, Dimension]\n",
    "initialTransform = TransformType.New()\n",
    "\n",
    "optimizer = itk.RegularStepGradientDescentOptimizerv4.New(\n",
    "        LearningRate=4,\n",
    "        MinimumStepLength=0.001,\n",
    "        RelaxationFactor=0.5,\n",
    "        NumberOfIterations=200)\n",
    "\n",
    "metric = itk.MeanSquaresImageToImageMetricv4[\n",
    "    FixedImageType, MovingImageType].New()\n",
    "\n",
    "registration = itk.ImageRegistrationMethodv4.New(FixedImage=fixedImage,\n",
    "        MovingImage=movingImage,\n",
    "        Metric=metric,\n",
    "        Optimizer=optimizer,\n",
    "        InitialTransform=initialTransform)\n",
    "\n",
    "movingInitialTransform = TransformType.New()\n",
    "initialParameters = movingInitialTransform.GetParameters()\n",
    "initialParameters[0] = 0\n",
    "initialParameters[1] = 0\n",
    "movingInitialTransform.SetParameters(initialParameters)\n",
    "registration.SetMovingInitialTransform(movingInitialTransform)\n",
    "\n",
    "identityTransform = TransformType.New()\n",
    "identityTransform.SetIdentity()\n",
    "registration.SetFixedInitialTransform(identityTransform)\n",
    "\n",
    "registration.SetNumberOfLevels(1)\n",
    "registration.SetSmoothingSigmasPerLevel([0])\n",
    "registration.SetShrinkFactorsPerLevel([1])\n",
    "\n",
    "registration.Update()\n",
    "\n",
    "transform = registration.GetTransform()\n",
    "finalParameters = transform.GetParameters()\n",
    "translationAlongX = finalParameters.GetElement(0)\n",
    "translationAlongY = finalParameters.GetElement(1)\n",
    "\n",
    "numberOfIterations = optimizer.GetCurrentIteration()\n",
    "\n",
    "bestValue = optimizer.GetValue()\n",
    "\n",
    "print(\"Result = \")\n",
    "print(\" Translation X = \" + str(translationAlongX))\n",
    "print(\" Translation Y = \" + str(translationAlongY))\n",
    "print(\" Iterations    = \" + str(numberOfIterations))\n",
    "print(\" Metric value  = \" + str(bestValue))\n",
    "\n",
    "CompositeTransformType = itk.CompositeTransform[itk.D, Dimension]\n",
    "outputCompositeTransform = CompositeTransformType.New()\n",
    "outputCompositeTransform.AddTransform(movingInitialTransform)\n",
    "outputCompositeTransform.AddTransform(registration.GetModifiableTransform())\n",
    "\n",
    "resampler = itk.ResampleImageFilter.New(Input=movingImage,\n",
    "        Transform=outputCompositeTransform,\n",
    "        UseReferenceImage=True,\n",
    "        ReferenceImage=fixedImage)\n",
    "resampler.SetDefaultPixelValue(100)\n",
    "\n",
    "OutputPixelType = itk.ctype('unsigned char')\n",
    "OutputImageType = itk.Image[OutputPixelType, Dimension]\n",
    "\n",
    "caster = itk.CastImageFilter[FixedImageType,\n",
    "        OutputImageType].New(Input=resampler)\n",
    "\n",
    "writer = itk.ImageFileWriter.New(Input=caster, FileName=outputImageFile)\n",
    "writer.SetFileName(outputImageFile)\n",
    "writer.Update()\n",
    "\n",
    "difference = itk.SubtractImageFilter.New(Input1=fixedImage,\n",
    "        Input2=resampler)\n",
    "\n",
    "intensityRescaler = itk.RescaleIntensityImageFilter[FixedImageType,\n",
    "        OutputImageType].New(\n",
    "            Input=difference,\n",
    "            OutputMinimum=itk.NumericTraits[OutputPixelType].min(),\n",
    "            OutputMaximum=itk.NumericTraits[OutputPixelType].max())\n",
    "\n",
    "resampler.SetDefaultPixelValue(1)\n",
    "writer.SetInput(intensityRescaler.GetOutput())\n",
    "writer.SetFileName(differenceImageAfterFile)\n",
    "writer.Update()\n",
    "\n",
    "resampler.SetTransform(identityTransform)\n",
    "writer.SetFileName(differenceImageBeforeFile)\n",
    "writer.Update()"
   ]
  },
  {
   "cell_type": "markdown",
   "metadata": {
    "slideshow": {
     "slide_type": "subslide"
    }
   },
   "source": [
    "### Exercise 3: Find other image filtering algorithms\n",
    "\n",
    "The classes in ITK are organized into **Modules**, and collections of Modules are organized into **Groups**. Examine the [Image Smoothing](https://itk.org/Insight/Doxygen/html/group__ITKSmoothing.html) Module and the [Filtering](https://itk.org/Insight/Doxygen/html/group__Group-Filtering.html) Group. Can any other smoothing or denoising classes be found? "
   ]
  },
  {
   "cell_type": "markdown",
   "metadata": {
    "slideshow": {
     "slide_type": "subslide"
    }
   },
   "source": [
    "### Enjoy ITK!"
   ]
  }
 ],
 "metadata": {
  "celltoolbar": "Slideshow",
  "kernelspec": {
   "display_name": "Python 3",
   "language": "python",
   "name": "python3"
  },
  "language_info": {
   "codemirror_mode": {
    "name": "ipython",
    "version": 3
   },
   "file_extension": ".py",
   "mimetype": "text/x-python",
   "name": "python",
   "nbconvert_exporter": "python",
   "pygments_lexer": "ipython3",
   "version": "3.6.2"
  }
 },
 "nbformat": 4,
 "nbformat_minor": 1
}
